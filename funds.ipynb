{
 "cells": [
  {
   "cell_type": "code",
   "execution_count": 52,
   "metadata": {},
   "outputs": [],
   "source": [
    "import pandas as pd\n",
    "df = pd.read_csv(\"HY Bond Funds.csv\").iloc[:,:2]\n",
    "df[\"Ticker\"] = df[\"Ticker\"] + \" equity\""
   ]
  },
  {
   "cell_type": "code",
   "execution_count": 53,
   "metadata": {},
   "outputs": [],
   "source": [
    "lst = []\n",
    "for index, instance in df.iterrows():\n",
    "    lst.append([instance[\"Name\"], instance[\"Ticker\"]])\n",
    "    lst += [[\"\",\"\"],[\"\",\"\"],[\"\",\"\"],[\"\",\"\"],[\"\",\"\"],[\"\",\"\"],[\"\",\"\"],[\"\",\"\"],[\"\",\"\"]]\n"
   ]
  },
  {
   "cell_type": "code",
   "execution_count": 54,
   "metadata": {},
   "outputs": [],
   "source": [
    "df = pd.DataFrame(lst)\n",
    "df.to_excel(\"funds.xlsx\")"
   ]
  },
  {
   "cell_type": "code",
   "execution_count": null,
   "metadata": {},
   "outputs": [],
   "source": [
    "import pandas as pd\n",
    "df = pd.read_csv(\"HY Bond Funds.csv\").iloc[:,:2]\n",
    "df[\"Ticker\"] = df[\"Ticker\"] + \" equity\"\n",
    "df.to_excel(\"funds-return.xlsx\")"
   ]
  },
  {
   "cell_type": "markdown",
   "metadata": {},
   "source": [
    "# Managers"
   ]
  },
  {
   "cell_type": "code",
   "execution_count": 608,
   "metadata": {},
   "outputs": [
    {
     "name": "stdout",
     "output_type": "stream",
     "text": [
      "321\n"
     ]
    }
   ],
   "source": [
    "import pandas as pd\n",
    "df = pd.read_csv(\"managers.csv\")\n",
    "\n",
    "#df = df.loc[~(df==0).all(axis=1)]\n",
    "df = df.dropna(how=\"all\").reset_index(drop=True)\n",
    "df[\"old\"] = df.reset_index()[\"index\"].astype(\"float\")  \n",
    "fund_indexes = np.array(df.loc[~df[\"1\"].isnull()]['old']).tolist()\n",
    "df = df.rename(columns={\"1\":\"Name\", \"2\":\"Equity\",\"3\":\"Manager\", \"4\":\"Role\", \"5\":\"Date\"})\n",
    "\n",
    "def go_through(num):\n",
    "    if num['old'] not in fund_indexes:\n",
    "        return df[df['old'] == [x for x in filter(lambda x: x <= num['old'], g)][-1]]['Name'].values[0]\n",
    "    else:\n",
    "        return num['Name']\n",
    "df['Name'] = df.apply(go_through, axis=1)\n",
    "\n",
    "def go_through(num):\n",
    "    if num['old'] not in fund_indexes:\n",
    "        return df[df['old'] == [x for x in filter(lambda x: x <= num['old'], g)][-1]]['Equity'].values[0]\n",
    "    else:\n",
    "        return num['Equity']\n",
    "df['Equity'] = df.apply(go_through, axis=1)\n",
    "\n",
    "def find(name):\n",
    "    for x in [\"Inverse\", \"Short\", \"Tactical\", \"Low\", \"Limited\", \"Risk\", \"Mortgage\", \"Floating\"]:\n",
    "        if x in name:\n",
    "            return False\n",
    "    return True\n",
    "df = df[df[\"Name\"].apply(find)]\n",
    "print(len(df[\"Manager\"].unique()))\n",
    "\n",
    "def date(date):\n",
    "    if pd.isna(date):\n",
    "        return True\n",
    "    year = date.split(\"/\")[-1]\n",
    "    if int(year) >= 85 or int(year) <= 21:\n",
    "        return True\n",
    "    return False\n",
    "#df = df[(df['Date']<='10/1/90') | (df['Date'].isnull())]\n",
    "df  = df[df[\"Date\"].apply(date)]\n",
    "\n",
    "def bad_managers(man):\n",
    "    if man not in ['Michael Reed \"Mike\"', 'Nick Shearn']:\n",
    "        return True\n",
    "    return False\n",
    "df = df[df['Manager'].apply(bad_managers)]\n",
    "df = df.reset_index(drop=True)"
   ]
  },
  {
   "cell_type": "code",
   "execution_count": 609,
   "metadata": {},
   "outputs": [
    {
     "data": {
      "text/html": [
       "<div>\n",
       "<style scoped>\n",
       "    .dataframe tbody tr th:only-of-type {\n",
       "        vertical-align: middle;\n",
       "    }\n",
       "\n",
       "    .dataframe tbody tr th {\n",
       "        vertical-align: top;\n",
       "    }\n",
       "\n",
       "    .dataframe thead th {\n",
       "        text-align: right;\n",
       "    }\n",
       "</style>\n",
       "<table border=\"1\" class=\"dataframe\">\n",
       "  <thead>\n",
       "    <tr style=\"text-align: right;\">\n",
       "      <th></th>\n",
       "      <th>Name_x</th>\n",
       "      <th>Ticker</th>\n",
       "      <th>3yr</th>\n",
       "      <th>Manager</th>\n",
       "    </tr>\n",
       "  </thead>\n",
       "  <tbody>\n",
       "    <tr>\n",
       "      <th>0</th>\n",
       "      <td>Northeast Investors Trust</td>\n",
       "      <td>NTHEX US equity</td>\n",
       "      <td>6.637250</td>\n",
       "      <td>Bruce H Monrad</td>\n",
       "    </tr>\n",
       "    <tr>\n",
       "      <th>1</th>\n",
       "      <td>RBC BlueBay Global Bond Fund</td>\n",
       "      <td>RBTRX US equity</td>\n",
       "      <td>9.933056</td>\n",
       "      <td>Mark Dowding</td>\n",
       "    </tr>\n",
       "    <tr>\n",
       "      <th>2</th>\n",
       "      <td>RBC BlueBay Global Bond Fund</td>\n",
       "      <td>RBTRX US equity</td>\n",
       "      <td>9.933056</td>\n",
       "      <td>Polina Kurdyavko</td>\n",
       "    </tr>\n",
       "    <tr>\n",
       "      <th>3</th>\n",
       "      <td>RBC BlueBay Global Bond Fund</td>\n",
       "      <td>RBTRX US equity</td>\n",
       "      <td>9.933056</td>\n",
       "      <td>Thomas Kreuzer</td>\n",
       "    </tr>\n",
       "    <tr>\n",
       "      <th>4</th>\n",
       "      <td>RBC BlueBay Global Bond Fund</td>\n",
       "      <td>RBTRX US equity</td>\n",
       "      <td>9.933056</td>\n",
       "      <td>Justin Jewell</td>\n",
       "    </tr>\n",
       "  </tbody>\n",
       "</table>\n",
       "</div>"
      ],
      "text/plain": [
       "                         Name_x           Ticker       3yr           Manager\n",
       "0     Northeast Investors Trust  NTHEX US equity  6.637250    Bruce H Monrad\n",
       "1  RBC BlueBay Global Bond Fund  RBTRX US equity  9.933056      Mark Dowding\n",
       "2  RBC BlueBay Global Bond Fund  RBTRX US equity  9.933056  Polina Kurdyavko\n",
       "3  RBC BlueBay Global Bond Fund  RBTRX US equity  9.933056    Thomas Kreuzer\n",
       "4  RBC BlueBay Global Bond Fund  RBTRX US equity  9.933056     Justin Jewell"
      ]
     },
     "execution_count": 609,
     "metadata": {},
     "output_type": "execute_result"
    }
   ],
   "source": [
    "hf = pd.read_csv(\"return.csv\").dropna(subset=[\"3yr\"]).iloc[:,:-1]\n",
    "kf = pd.merge(hf, df, left_on=\"Ticker\", right_on=\"Equity\", how=\"inner\")[[\"Name_x\",\"Ticker\",\"3yr\",\"Manager\"]]\n",
    "kf[\"3yr\"] = abs(kf[\"3yr\"])\n",
    "kf.to_csv(\"final_managers.csv\")\n",
    "kf.head()\n"
   ]
  },
  {
   "cell_type": "code",
   "execution_count": 614,
   "metadata": {},
   "outputs": [
    {
     "data": {
      "text/plain": [
       "370"
      ]
     },
     "execution_count": 614,
     "metadata": {},
     "output_type": "execute_result"
    }
   ],
   "source": [
    "#kf.sort_values(by=[\"3yr\"]).reset_index(drop=True).reset_index()[[\"Ticker\",\"3\"]]\n",
    "len(kf[~kf[\"Manager\"].isnull()])"
   ]
  },
  {
   "cell_type": "code",
   "execution_count": 615,
   "metadata": {},
   "outputs": [
    {
     "data": {
      "text/plain": [
       "95"
      ]
     },
     "execution_count": 615,
     "metadata": {},
     "output_type": "execute_result"
    }
   ],
   "source": [
    "import os\n",
    "done = []\n",
    "for x in os.listdir(\"/Users/jsusser/desktop/final_managers\"):\n",
    "    if x != \".DS_Store\":\n",
    "        done += [y for y in os.listdir(\"/Users/jsusser/desktop/final_managers/%s\"%x)]\n",
    "len(os.listdir(\"/Users/jsusser/desktop/final_managers\"))"
   ]
  },
  {
   "cell_type": "code",
   "execution_count": 611,
   "metadata": {},
   "outputs": [],
   "source": [
    "check = pd.read_csv(\"check2.csv\", index_col=0)"
   ]
  },
  {
   "cell_type": "code",
   "execution_count": 612,
   "metadata": {},
   "outputs": [
    {
     "data": {
      "text/plain": [
       "array(['Todd Bruce Johnson', 'Hunter Hayes', 'Mark F Travis',\n",
       "       'George Goudelias', 'Nicholas Niziolek', 'Chuck Carmody',\n",
       "       'Matt Freund', 'Scott Roberts', 'Jeffrey Clarke', 'Matthew W Ryan',\n",
       "       'Bill Adams', 'Mike Skatrud', 'Jenna Barnard', 'John Pattullo',\n",
       "       'Sean Feeley', 'John P McCarthy', 'Ricky Liu', 'Paul J Denoon',\n",
       "       'Andrew Susser', 'Robert Junkin', 'Bill Morgan',\n",
       "       'James P Shanahan Jr', 'Michael Weaver', 'David J Breazzano',\n",
       "       'John W Sherman', \"Tom O'Reilly\", 'Daniel Deyoung', 'Chris Barris',\n",
       "       'Kevin L Cronk', 'Matt Toms', 'Marianne Rossi', 'Peter J Wilby',\n",
       "       'Daniel Berkery \"Dan\"', 'Mark C Luchsinger', 'J Scott McDonald',\n",
       "       'Deborah Petruzzelli', 'John Steven Williams', 'Sonali Pier',\n",
       "       'Edward Meigs', 'Sean Michael Slein', 'Ian Spreadbury',\n",
       "       'Harley J Lank', 'Lisa J Roche', 'James Durance', 'Joseph W Lind',\n",
       "       'Chris Kocinski', 'Russ Covode', 'Dan Doyle', 'Gregory M Shea',\n",
       "       'John Addeo', 'Dennis F McCafferty', 'Eric Hess', 'Bill Eastwood',\n",
       "       'Kevin H Gundersen', 'Tracy Chen', 'Brian L Kloss',\n",
       "       'Gerhardt P Herbert \"Gary\"', 'Richard J Lindquist',\n",
       "       'Gary J Pokrzywinski', 'Steven Wagner', 'Jean C Lin',\n",
       "       'Chris Jones', 'Peter Schwab', 'Brian Robertson',\n",
       "       'Evangelos Karagiannis', 'Michael Y Yean',\n",
       "       'Sreeniwas V Prabhu \"Sreeni\"', 'Bob Boyd', 'Mitch Garfin',\n",
       "       'Brenda Langenfeld', 'Aashh Parekh', 'Tim Leary', 'Andrzej Skiba',\n",
       "       'Steven Rosenthal', 'Fred Hoff', 'Robert Cignarella', 'Ryan Kelly',\n",
       "       'Daniel Thorogood', 'Patrick Mitchell', 'Paul Benson',\n",
       "       'Brad Conger', 'Stephanie Shu', 'Manuel Hayes', 'Michael Edmonds',\n",
       "       'Clint Talmo', 'Justin Henne', 'Jason Nelson',\n",
       "       'Timothy J Jossart \"Tim\"', 'Garrick T Bauer', 'James McGiveran',\n",
       "       'Bryant Dieffenbacher', 'Brian P Kennedy', 'Todd P Vandam',\n",
       "       'Bryan C Krug', 'Kevin Ziets', 'Bryan Petermann',\n",
       "       'William P Zox \"Bill\"', 'Suken Patel', 'John McClain',\n",
       "       'Paul Brigandi', 'Tony Ng', 'Craig P Russ'], dtype=object)"
      ]
     },
     "execution_count": 612,
     "metadata": {},
     "output_type": "execute_result"
    }
   ],
   "source": [
    "check[\"manager\"].unique()"
   ]
  },
  {
   "cell_type": "code",
   "execution_count": null,
   "metadata": {},
   "outputs": [],
   "source": []
  }
 ],
 "metadata": {
  "kernelspec": {
   "display_name": "Python 3",
   "language": "python",
   "name": "python3"
  },
  "language_info": {
   "codemirror_mode": {
    "name": "ipython",
    "version": 3
   },
   "file_extension": ".py",
   "mimetype": "text/x-python",
   "name": "python",
   "nbconvert_exporter": "python",
   "pygments_lexer": "ipython3",
   "version": "3.8.3"
  }
 },
 "nbformat": 4,
 "nbformat_minor": 4
}
