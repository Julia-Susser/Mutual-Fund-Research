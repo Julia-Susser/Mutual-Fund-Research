{
 "cells": [
  {
   "cell_type": "code",
   "execution_count": null,
   "metadata": {},
   "outputs": [],
   "source": [
    "\n",
    "\n",
    "\n",
    "\n",
    "attractiveness_model.compile(loss='mean_squared_error'\n",
    ", optimizer=keras.optimizers.Adam())\n",
    " \n",
    "checkpointer = ModelCheckpoint(filepath='attractiveness.hdf5'\n",
    "    , monitor = \"val_loss\", verbose=1\n",
    ", save_best_only=True, mode = 'auto'\n",
    ")\n",
    " \n",
    "earlyStop = EarlyStopping(monitor='val_loss', patience=50)\n",
    " \n",
    "score = attractiveness_model.fit(train_x, train_y, epochs=5000\n",
    "    , validation_data=(val_x, val_y), callbacks=[checkpointer, earlyStop]\n",
    ")"
   ]
  }
 ],
 "metadata": {
  "kernelspec": {
   "display_name": "Python 3",
   "language": "python",
   "name": "python3"
  },
  "language_info": {
   "codemirror_mode": {
    "name": "ipython",
    "version": 3
   },
   "file_extension": ".py",
   "mimetype": "text/x-python",
   "name": "python",
   "nbconvert_exporter": "python",
   "pygments_lexer": "ipython3",
   "version": "3.8.3"
  }
 },
 "nbformat": 4,
 "nbformat_minor": 4
}
