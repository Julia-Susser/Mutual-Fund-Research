{
 "cells": [
  {
   "cell_type": "code",
   "execution_count": 1,
   "metadata": {},
   "outputs": [],
   "source": [
    "import pandas as pd\n",
    "import numpy as np\n",
    "from keras.preprocessing.image import load_img\n",
    "from keras.preprocessing.image import img_to_array\n",
    "from tensorflow.keras import Sequential, Model, Input\n",
    "from keras.layers.convolutional import Conv2D, MaxPooling2D, ZeroPadding2D\n",
    "from keras.layers import Dense, Dropout, Flatten, BatchNormalization, Activation\n",
    "\n",
    "\n"
   ]
  },
  {
   "cell_type": "code",
   "execution_count": 2,
   "metadata": {},
   "outputs": [],
   "source": [
    "path = \"SCUT-FBP5500_v2/train_test_files/split_of_60%training and 40%testing\"\n",
    "train_df = pd.read_csv(\"%s/train.txt\" % (path), sep=\" \", names=[\"image\", \"score\"])\n",
    "test_df = pd.read_csv(\"%s/test.txt\" % (path), sep=\" \", names=[\"image\", \"score\"])\n",
    "\n"
   ]
  },
  {
   "cell_type": "code",
   "execution_count": 3,
   "metadata": {},
   "outputs": [
    {
     "data": {
      "text/html": [
       "<div>\n",
       "<style scoped>\n",
       "    .dataframe tbody tr th:only-of-type {\n",
       "        vertical-align: middle;\n",
       "    }\n",
       "\n",
       "    .dataframe tbody tr th {\n",
       "        vertical-align: top;\n",
       "    }\n",
       "\n",
       "    .dataframe thead th {\n",
       "        text-align: right;\n",
       "    }\n",
       "</style>\n",
       "<table border=\"1\" class=\"dataframe\">\n",
       "  <thead>\n",
       "    <tr style=\"text-align: right;\">\n",
       "      <th></th>\n",
       "      <th>image</th>\n",
       "      <th>score</th>\n",
       "      <th>purpose</th>\n",
       "    </tr>\n",
       "  </thead>\n",
       "  <tbody>\n",
       "    <tr>\n",
       "      <th>1150</th>\n",
       "      <td>CM537.jpg</td>\n",
       "      <td>2.883333</td>\n",
       "      <td>test</td>\n",
       "    </tr>\n",
       "    <tr>\n",
       "      <th>2378</th>\n",
       "      <td>AF1558.jpg</td>\n",
       "      <td>3.700000</td>\n",
       "      <td>train</td>\n",
       "    </tr>\n",
       "    <tr>\n",
       "      <th>959</th>\n",
       "      <td>AM1502.jpg</td>\n",
       "      <td>2.666667</td>\n",
       "      <td>train</td>\n",
       "    </tr>\n",
       "    <tr>\n",
       "      <th>1225</th>\n",
       "      <td>AM1763.jpg</td>\n",
       "      <td>3.750000</td>\n",
       "      <td>test</td>\n",
       "    </tr>\n",
       "    <tr>\n",
       "      <th>99</th>\n",
       "      <td>CM726.jpg</td>\n",
       "      <td>3.433333</td>\n",
       "      <td>test</td>\n",
       "    </tr>\n",
       "  </tbody>\n",
       "</table>\n",
       "</div>"
      ],
      "text/plain": [
       "           image     score purpose\n",
       "1150   CM537.jpg  2.883333    test\n",
       "2378  AF1558.jpg  3.700000   train\n",
       "959   AM1502.jpg  2.666667   train\n",
       "1225  AM1763.jpg  3.750000    test\n",
       "99     CM726.jpg  3.433333    test"
      ]
     },
     "execution_count": 3,
     "metadata": {},
     "output_type": "execute_result"
    }
   ],
   "source": [
    "train_df['purpose'] = 'train'\n",
    "test_df['purpose'] = 'test'\n",
    " \n",
    "np.random.seed(17) #important for reproducability\n",
    "val_set_size = int((40*train_df.shape[0])/100)\n",
    "val_idx = np.random.choice(train_df.shape[0], size=val_set_size)\n",
    "train_df.loc[val_idx, 'purpose'] = 'validation'\n",
    " \n",
    "df = pd.concat([train_df, test_df])\n",
    "del train_df, test_df\n",
    " \n",
    "df.sample(5)"
   ]
  },
  {
   "cell_type": "code",
   "execution_count": 4,
   "metadata": {},
   "outputs": [
    {
     "data": {
      "text/html": [
       "<div>\n",
       "<style scoped>\n",
       "    .dataframe tbody tr th:only-of-type {\n",
       "        vertical-align: middle;\n",
       "    }\n",
       "\n",
       "    .dataframe tbody tr th {\n",
       "        vertical-align: top;\n",
       "    }\n",
       "\n",
       "    .dataframe thead th {\n",
       "        text-align: right;\n",
       "    }\n",
       "</style>\n",
       "<table border=\"1\" class=\"dataframe\">\n",
       "  <thead>\n",
       "    <tr style=\"text-align: right;\">\n",
       "      <th></th>\n",
       "      <th>instances</th>\n",
       "    </tr>\n",
       "  </thead>\n",
       "  <tbody>\n",
       "    <tr>\n",
       "      <th>train</th>\n",
       "      <td>2219</td>\n",
       "    </tr>\n",
       "    <tr>\n",
       "      <th>test</th>\n",
       "      <td>2200</td>\n",
       "    </tr>\n",
       "    <tr>\n",
       "      <th>validation</th>\n",
       "      <td>1081</td>\n",
       "    </tr>\n",
       "  </tbody>\n",
       "</table>\n",
       "</div>"
      ],
      "text/plain": [
       "            instances\n",
       "train            2219\n",
       "test             2200\n",
       "validation       1081"
      ]
     },
     "execution_count": 4,
     "metadata": {},
     "output_type": "execute_result"
    }
   ],
   "source": [
    "pd.DataFrame(df.purpose.value_counts()).rename(columns = {\"purpose\": \"instances\"})\n",
    "#df.groupby(by=[\"purpose\"])[\"score\"].count()"
   ]
  },
  {
   "cell_type": "code",
   "execution_count": 5,
   "metadata": {},
   "outputs": [],
   "source": [
    "def retrievePixels(img_name):\n",
    "    path = \"SCUT-FBP5500_v2/Images/%s\" % (img_name)\n",
    "    img = load_img(path, grayscale=False, target_size=(224, 224))\n",
    "    x = img_to_array(img).reshape(1, -1)[0]\n",
    "    return x\n",
    " \n",
    "df['pixels'] = df['image'].apply(retrievePixels)"
   ]
  },
  {
   "cell_type": "code",
   "execution_count": 6,
   "metadata": {},
   "outputs": [],
   "source": [
    "features = []\n",
    "pixels = df['pixels'].values\n",
    "for i in range(0, pixels.shape[0]):\n",
    "    features.append(pixels[i])\n",
    " \n",
    "features = np.array(features)\n",
    "features = features.reshape(features.shape[0], 224, 224, 3)\n",
    "features = features / 255 #normalize inputs within [0, 1]\n"
   ]
  },
  {
   "cell_type": "code",
   "execution_count": 9,
   "metadata": {},
   "outputs": [],
   "source": [
    "train_idx = df[(df['purpose'] == 'train')].index\n",
    "val_idx = df[(df['purpose'] == 'validation')].index\n",
    "test_idx = df[(df['purpose'] == 'test')].index"
   ]
  },
  {
   "cell_type": "code",
   "execution_count": 10,
   "metadata": {},
   "outputs": [],
   "source": [
    "actuals = df.iloc[test_idx].score.values\n"
   ]
  },
  {
   "cell_type": "code",
   "execution_count": 12,
   "metadata": {},
   "outputs": [],
   "source": [
    "from keras.preprocessing.image import load_img\n",
    "from keras.preprocessing.image import img_to_array\n",
    "from keras.models import load_model\n",
    "\n",
    "beauty_model = load_model(\"beauty_model.hdf5\")"
   ]
  },
  {
   "cell_type": "code",
   "execution_count": null,
   "metadata": {},
   "outputs": [],
   "source": [
    "predictions = beauty_model.predict(features[test_idx])\n",
    " \n"
   ]
  },
  {
   "cell_type": "code",
   "execution_count": null,
   "metadata": {},
   "outputs": [],
   "source": [
    "perf = pd.DataFrame(actuals, columns = [\"actuals\"])\n",
    "perf[\"predictions\"] = predictions\n",
    "print(\"PC: \",perf[['actuals', 'predictions']].corr(method ='pearson').values[0,1])\n",
    "print(\"MAE: \", mean_absolute_error(actuals, predictions))\n",
    "print(\"RMSE: \", sqrt(mean_squared_error(actuals, predictions)))"
   ]
  }
 ],
 "metadata": {
  "kernelspec": {
   "display_name": "Python 3",
   "language": "python",
   "name": "python3"
  },
  "language_info": {
   "codemirror_mode": {
    "name": "ipython",
    "version": 3
   },
   "file_extension": ".py",
   "mimetype": "text/x-python",
   "name": "python",
   "nbconvert_exporter": "python",
   "pygments_lexer": "ipython3",
   "version": "3.8.3"
  }
 },
 "nbformat": 4,
 "nbformat_minor": 4
}
